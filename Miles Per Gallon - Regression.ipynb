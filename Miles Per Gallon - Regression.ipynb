{
 "cells": [
  {
   "cell_type": "code",
   "execution_count": 19,
   "metadata": {},
   "outputs": [
    {
     "name": "stdout",
     "output_type": "stream",
     "text": [
      "(392, 9)\n"
     ]
    }
   ],
   "source": [
    "from sklearn import datasets, linear_model\n",
    "import pandas as pd\n",
    "from pandas import DataFrame, Series\n",
    "from __future__ import division\n",
    "\n",
    "\n",
    "data = pd.read_csv(\"http://archive.ics.uci.edu/ml/machine-learning-databases/auto-mpg/auto-mpg.data-original\",\n",
    "                   delim_whitespace = True, header=None,\n",
    "                   names = ['mpg', 'cylinders', 'displacement', 'horsepower', 'weight', 'acceleration',\n",
    "                            'model', 'origin', 'car_name'])\n",
    "\n",
    "data.describe()\n",
    "data.isnull().sum()\n",
    "data.describe()\n",
    "data=data.dropna()\n",
    "print(data.shape)\n",
    "\n",
    "## create dummy variables\n",
    "data['origin'] = data['origin'].replace({1: 'america', 2: 'europe', 3: 'asia'})\n",
    "data=data.drop('car_name', axis=1)\n",
    "data=data.drop('model', axis =1)\n",
    "data=data.drop('weight', axis =1)\n",
    "\n",
    "data = pd.get_dummies(data, columns=['origin'])\n",
    "\n",
    "\n",
    "\n"
   ]
  },
  {
   "cell_type": "markdown",
   "metadata": {},
   "source": [
    "# Build a linear regression model"
   ]
  },
  {
   "cell_type": "code",
   "execution_count": 20,
   "metadata": {},
   "outputs": [
    {
     "name": "stdout",
     "output_type": "stream",
     "text": [
      "     Actual  Predicted\n",
      "89     23.0  28.334636\n",
      "174    29.0  30.555370\n",
      "363    32.4  30.180468\n",
      "127    19.0  24.363445\n",
      "393    38.0  31.383984\n",
      "245    33.5  26.653546\n",
      "86     26.0  28.393799\n",
      "100    14.0  14.934656\n",
      "88     28.0  28.767015\n",
      "344    32.4  30.441899\n",
      "287    21.5  20.439989\n",
      "316    41.5  28.346989\n",
      "292    17.0  16.888024\n",
      "227    33.5  31.103962\n",
      "379    29.0  25.807844\n",
      "4      17.0  16.973578\n",
      "399    36.0  26.397181\n",
      "333    43.4  29.359303\n",
      "6      14.0   6.768066\n",
      "176    20.0  21.706952\n",
      "155    26.0  28.221832\n",
      "141    16.0  19.862972\n",
      "128    15.0  15.622217\n",
      "237    15.5  13.037364\n",
      "5      15.0   9.126613\n",
      "299    18.5  14.397934\n",
      "223    31.5  30.699952\n",
      "206    20.0  21.511559\n",
      "171    21.0  20.986776\n",
      "349    30.0  26.416826\n",
      "..      ...        ...\n",
      "300    31.9  29.130865\n",
      "49     12.0  11.428066\n",
      "327    37.0  28.724416\n",
      "298    19.2  18.187022\n",
      "222    13.0  15.032879\n",
      "324    34.3  27.963410\n",
      "29     26.0  24.859141\n",
      "302    35.7  27.229140\n",
      "19     14.0   6.083617\n",
      "98     13.0  13.802579\n",
      "69     13.0  13.387705\n",
      "345    27.2  25.866777\n",
      "267    18.6  20.378696\n",
      "148    29.0  27.337894\n",
      "319    37.2  31.630954\n",
      "360    33.0  28.493930\n",
      "103    13.0  12.449783\n",
      "371    22.4  20.829619\n",
      "336    44.6  31.855454\n",
      "303    27.4  26.655987\n",
      "136    31.0  31.071476\n",
      "200    24.0  23.805272\n",
      "90     28.0  27.111273\n",
      "374    17.6  23.132275\n",
      "231    15.0  17.045632\n",
      "33     11.0   9.512601\n",
      "97     12.0   8.831944\n",
      "314    26.8  22.079215\n",
      "81     13.0  15.893125\n",
      "283    21.6  24.043231\n",
      "\n",
      "[98 rows x 2 columns]\n",
      "Root Mean Square error of the Linear Regression Model is 4.654599433333648\n"
     ]
    }
   ],
   "source": [
    "\n",
    "\n",
    "X = data.drop('mpg', axis =1)\n",
    "y = data['mpg']\n",
    "\n",
    "from sklearn.model_selection import train_test_split\n",
    "\n",
    "# Split X and y into train and test\n",
    "X_train, X_test, y_train, y_test = train_test_split(X, y, test_size=0.25, random_state=1)\n",
    "\n",
    "\n",
    "\n",
    "from sklearn.linear_model import LinearRegression\n",
    "\n",
    "regression_model = LinearRegression()\n",
    "regression_model.fit(X_train, y_train)\n",
    "from sklearn.metrics import mean_squared_error\n",
    "\n",
    "y_predict = regression_model.predict(X_test)\n",
    "\n",
    "###  Print the predictions and actual values\n",
    "df = pd.DataFrame({'Actual': y_test, 'Predicted': y_predict})  \n",
    "print(df)\n",
    "\n",
    "regression_model_mse = mean_squared_error(y_predict, y_test)\n",
    "regression_model_mse\n",
    "rmse_Error =regression_model_mse**0.5\n",
    "print(\"Root Mean Square error of the Linear Regression Model is\" ,rmse_Error)"
   ]
  },
  {
   "cell_type": "markdown",
   "metadata": {},
   "source": [
    "# Random Forest "
   ]
  },
  {
   "cell_type": "code",
   "execution_count": 21,
   "metadata": {},
   "outputs": [
    {
     "name": "stdout",
     "output_type": "stream",
     "text": [
      "Root Mean Square error using Random Forest is 4.214136621428989\n"
     ]
    }
   ],
   "source": [
    "## Import the model we are using\n",
    "from sklearn.ensemble import RandomForestRegressor\n",
    "# Instantiate model with 1000 decision trees\n",
    "rf = RandomForestRegressor(n_estimators = 1000, random_state = 42)\n",
    "# Train the model on training data\n",
    "rf.fit(X_train, y_train)\n",
    "\n",
    "y_pre = rf.predict(X_test)\n",
    "\n",
    "mse = mean_squared_error(y_pre, y_test)\n",
    "mse\n",
    "rmse =mse**0.5\n",
    "print(\"Root Mean Square error using Random Forest is\",rmse)"
   ]
  },
  {
   "cell_type": "code",
   "execution_count": null,
   "metadata": {},
   "outputs": [],
   "source": [
    "###Plot Variable Importance"
   ]
  },
  {
   "cell_type": "code",
   "execution_count": 25,
   "metadata": {},
   "outputs": [],
   "source": [
    "feature_importances = pd.DataFrame(rf.feature_importances_,\n",
    "                                   index = X_train.columns,\n",
    "                                    columns=['importance']).sort_values('importance', ascending=False)"
   ]
  },
  {
   "cell_type": "code",
   "execution_count": 26,
   "metadata": {},
   "outputs": [
    {
     "name": "stdout",
     "output_type": "stream",
     "text": [
      "Variables significant for determining MPG\n",
      "                 importance\n",
      "displacement      0.478074\n",
      "horsepower        0.234101\n",
      "cylinders         0.179343\n",
      "acceleration      0.087893\n",
      "origin_asia       0.008486\n",
      "origin_europe     0.008408\n",
      "origin_america    0.003695\n"
     ]
    }
   ],
   "source": [
    "print(\"Variables significant for determining MPG\\n\", feature_importances)\n"
   ]
  },
  {
   "cell_type": "code",
   "execution_count": null,
   "metadata": {},
   "outputs": [],
   "source": []
  }
 ],
 "metadata": {
  "kernelspec": {
   "display_name": "Python 3",
   "language": "python",
   "name": "python3"
  },
  "language_info": {
   "codemirror_mode": {
    "name": "ipython",
    "version": 3
   },
   "file_extension": ".py",
   "mimetype": "text/x-python",
   "name": "python",
   "nbconvert_exporter": "python",
   "pygments_lexer": "ipython3",
   "version": "3.6.4"
  }
 },
 "nbformat": 4,
 "nbformat_minor": 2
}
